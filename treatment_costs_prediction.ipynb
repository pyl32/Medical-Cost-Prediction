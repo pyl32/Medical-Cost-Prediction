{
 "cells": [
  {
   "cell_type": "markdown",
   "metadata": {
    "colab_type": "text",
    "id": "2v9gRZE7jPzh"
   },
   "source": [
    "## Introduction\n",
    "Linear regression is one of the most important algorithms under the supervised learning category in Machine Learning. It is also the commonly used model for predictive analysis. This project using this machine learning method to explore the personal health dataset and predict treatment and insurance costs."
   ]
  },
  {
   "cell_type": "markdown",
   "metadata": {
    "colab_type": "text",
    "id": "JzZMaa6DjPzj"
   },
   "source": [
    "## Model Implementation\n",
    "### 1. Import Data"
   ]
  },
  {
   "cell_type": "code",
   "execution_count": 1,
   "metadata": {
    "_cell_guid": "b1076dfc-b9ad-4769-8c92-a6c4dae69d19",
    "_uuid": "8f2839f25d086af736a60e9eeb907d3b93b6e0e5",
    "colab": {},
    "colab_type": "code",
    "id": "oZGBAbnojPzl"
   },
   "outputs": [],
   "source": [
    "import numpy as np\n",
    "import pandas as pd\n",
    "import seaborn as sns \n",
    "import matplotlib.pyplot as plt"
   ]
  },
  {
   "cell_type": "code",
   "execution_count": 3,
   "metadata": {
    "_cell_guid": "79c7e3d0-c299-4dcb-8224-4455121ee9b0",
    "_uuid": "d629ff2d2480ee46fbb7e2d37f6b5fab8052498a",
    "colab": {
     "base_uri": "https://localhost:8080/",
     "height": 204
    },
    "colab_type": "code",
    "executionInfo": {
     "elapsed": 1471,
     "status": "ok",
     "timestamp": 1595740816509,
     "user": {
      "displayName": "Thomas George Thomas",
      "photoUrl": "https://lh3.googleusercontent.com/a-/AOh14GhRjmtno5yCmJOUjYiFNGHi_xP5YZBJ1ZpWGKsZ=s64",
      "userId": "09561174857978505545"
     },
     "user_tz": -330
    },
    "id": "55LqpM-ujPz4",
    "outputId": "9c4b729e-d0c3-47ba-e2ab-b0c01ebcf617"
   },
   "outputs": [
    {
     "data": {
      "text/html": [
       "<div>\n",
       "<style scoped>\n",
       "    .dataframe tbody tr th:only-of-type {\n",
       "        vertical-align: middle;\n",
       "    }\n",
       "\n",
       "    .dataframe tbody tr th {\n",
       "        vertical-align: top;\n",
       "    }\n",
       "\n",
       "    .dataframe thead th {\n",
       "        text-align: right;\n",
       "    }\n",
       "</style>\n",
       "<table border=\"1\" class=\"dataframe\">\n",
       "  <thead>\n",
       "    <tr style=\"text-align: right;\">\n",
       "      <th></th>\n",
       "      <th>age</th>\n",
       "      <th>sex</th>\n",
       "      <th>bmi</th>\n",
       "      <th>children</th>\n",
       "      <th>smoker</th>\n",
       "      <th>region</th>\n",
       "      <th>charges</th>\n",
       "    </tr>\n",
       "  </thead>\n",
       "  <tbody>\n",
       "    <tr>\n",
       "      <th>0</th>\n",
       "      <td>19</td>\n",
       "      <td>female</td>\n",
       "      <td>27.900</td>\n",
       "      <td>0</td>\n",
       "      <td>yes</td>\n",
       "      <td>southwest</td>\n",
       "      <td>16884.92400</td>\n",
       "    </tr>\n",
       "    <tr>\n",
       "      <th>1</th>\n",
       "      <td>18</td>\n",
       "      <td>male</td>\n",
       "      <td>33.770</td>\n",
       "      <td>1</td>\n",
       "      <td>no</td>\n",
       "      <td>southeast</td>\n",
       "      <td>1725.55230</td>\n",
       "    </tr>\n",
       "    <tr>\n",
       "      <th>2</th>\n",
       "      <td>28</td>\n",
       "      <td>male</td>\n",
       "      <td>33.000</td>\n",
       "      <td>3</td>\n",
       "      <td>no</td>\n",
       "      <td>southeast</td>\n",
       "      <td>4449.46200</td>\n",
       "    </tr>\n",
       "    <tr>\n",
       "      <th>3</th>\n",
       "      <td>33</td>\n",
       "      <td>male</td>\n",
       "      <td>22.705</td>\n",
       "      <td>0</td>\n",
       "      <td>no</td>\n",
       "      <td>northwest</td>\n",
       "      <td>21984.47061</td>\n",
       "    </tr>\n",
       "    <tr>\n",
       "      <th>4</th>\n",
       "      <td>32</td>\n",
       "      <td>male</td>\n",
       "      <td>28.880</td>\n",
       "      <td>0</td>\n",
       "      <td>no</td>\n",
       "      <td>northwest</td>\n",
       "      <td>3866.85520</td>\n",
       "    </tr>\n",
       "  </tbody>\n",
       "</table>\n",
       "</div>"
      ],
      "text/plain": [
       "   age     sex     bmi  children smoker     region      charges\n",
       "0   19  female  27.900         0    yes  southwest  16884.92400\n",
       "1   18    male  33.770         1     no  southeast   1725.55230\n",
       "2   28    male  33.000         3     no  southeast   4449.46200\n",
       "3   33    male  22.705         0     no  northwest  21984.47061\n",
       "4   32    male  28.880         0     no  northwest   3866.85520"
      ]
     },
     "execution_count": 3,
     "metadata": {},
     "output_type": "execute_result"
    }
   ],
   "source": [
    "# Read the data\n",
    "df=pd.read_csv(\"insurance.csv\")\n",
    "\n",
    "# Browse the sample data\n",
    "df.head()"
   ]
  },
  {
   "cell_type": "markdown",
   "metadata": {
    "colab_type": "text",
    "id": "DRUdRw_WjP0B"
   },
   "source": [
    "### 2. Preprocessing the data"
   ]
  },
  {
   "cell_type": "code",
   "execution_count": 5,
   "metadata": {
    "colab": {
     "base_uri": "https://localhost:8080/",
     "height": 255
    },
    "colab_type": "code",
    "executionInfo": {
     "elapsed": 1442,
     "status": "ok",
     "timestamp": 1595740816510,
     "user": {
      "displayName": "Thomas George Thomas",
      "photoUrl": "https://lh3.googleusercontent.com/a-/AOh14GhRjmtno5yCmJOUjYiFNGHi_xP5YZBJ1ZpWGKsZ=s64",
      "userId": "09561174857978505545"
     },
     "user_tz": -330
    },
    "id": "eXiP_i-JjP0C",
    "outputId": "5a740136-06f7-44e1-9665-820955e473c4"
   },
   "outputs": [
    {
     "name": "stdout",
     "output_type": "stream",
     "text": [
      "<class 'pandas.core.frame.DataFrame'>\n",
      "RangeIndex: 1338 entries, 0 to 1337\n",
      "Data columns (total 7 columns):\n",
      " #   Column    Non-Null Count  Dtype  \n",
      "---  ------    --------------  -----  \n",
      " 0   age       1338 non-null   int64  \n",
      " 1   sex       1338 non-null   object \n",
      " 2   bmi       1338 non-null   float64\n",
      " 3   children  1338 non-null   int64  \n",
      " 4   smoker    1338 non-null   object \n",
      " 5   region    1338 non-null   object \n",
      " 6   charges   1338 non-null   float64\n",
      "dtypes: float64(2), int64(2), object(3)\n",
      "memory usage: 73.3+ KB\n"
     ]
    }
   ],
   "source": [
    "# Check for overall data information include the data types & nulls\n",
    "df.info()"
   ]
  },
  {
   "cell_type": "code",
   "execution_count": 8,
   "metadata": {
    "colab": {
     "base_uri": "https://localhost:8080/",
     "height": 153
    },
    "colab_type": "code",
    "executionInfo": {
     "elapsed": 1419,
     "status": "ok",
     "timestamp": 1595740816510,
     "user": {
      "displayName": "Thomas George Thomas",
      "photoUrl": "https://lh3.googleusercontent.com/a-/AOh14GhRjmtno5yCmJOUjYiFNGHi_xP5YZBJ1ZpWGKsZ=s64",
      "userId": "09561174857978505545"
     },
     "user_tz": -330
    },
    "id": "mGT6AN6ojP0H",
    "outputId": "41537917-6a47-4205-b312-7f4ddf93ece4"
   },
   "outputs": [
    {
     "data": {
      "text/plain": [
       "age         0\n",
       "sex         0\n",
       "bmi         0\n",
       "children    0\n",
       "smoker      0\n",
       "region      0\n",
       "charges     0\n",
       "dtype: int64"
      ]
     },
     "execution_count": 8,
     "metadata": {},
     "output_type": "execute_result"
    }
   ],
   "source": [
    "# double check the NULL\n",
    "df.isnull().sum()"
   ]
  },
  {
   "cell_type": "code",
   "execution_count": 9,
   "metadata": {
    "colab": {
     "base_uri": "https://localhost:8080/",
     "height": 297
    },
    "colab_type": "code",
    "executionInfo": {
     "elapsed": 1393,
     "status": "ok",
     "timestamp": 1595740816512,
     "user": {
      "displayName": "Thomas George Thomas",
      "photoUrl": "https://lh3.googleusercontent.com/a-/AOh14GhRjmtno5yCmJOUjYiFNGHi_xP5YZBJ1ZpWGKsZ=s64",
      "userId": "09561174857978505545"
     },
     "user_tz": -330
    },
    "id": "-QydQwOujP0S",
    "outputId": "cade3313-6b13-4b26-a7b5-b26448d5ed7e"
   },
   "outputs": [
    {
     "data": {
      "text/html": [
       "<div>\n",
       "<style scoped>\n",
       "    .dataframe tbody tr th:only-of-type {\n",
       "        vertical-align: middle;\n",
       "    }\n",
       "\n",
       "    .dataframe tbody tr th {\n",
       "        vertical-align: top;\n",
       "    }\n",
       "\n",
       "    .dataframe thead th {\n",
       "        text-align: right;\n",
       "    }\n",
       "</style>\n",
       "<table border=\"1\" class=\"dataframe\">\n",
       "  <thead>\n",
       "    <tr style=\"text-align: right;\">\n",
       "      <th></th>\n",
       "      <th>age</th>\n",
       "      <th>bmi</th>\n",
       "      <th>children</th>\n",
       "      <th>charges</th>\n",
       "    </tr>\n",
       "  </thead>\n",
       "  <tbody>\n",
       "    <tr>\n",
       "      <th>count</th>\n",
       "      <td>1338.000000</td>\n",
       "      <td>1338.000000</td>\n",
       "      <td>1338.000000</td>\n",
       "      <td>1338.000000</td>\n",
       "    </tr>\n",
       "    <tr>\n",
       "      <th>mean</th>\n",
       "      <td>39.207025</td>\n",
       "      <td>30.663397</td>\n",
       "      <td>1.094918</td>\n",
       "      <td>13270.422265</td>\n",
       "    </tr>\n",
       "    <tr>\n",
       "      <th>std</th>\n",
       "      <td>14.049960</td>\n",
       "      <td>6.098187</td>\n",
       "      <td>1.205493</td>\n",
       "      <td>12110.011237</td>\n",
       "    </tr>\n",
       "    <tr>\n",
       "      <th>min</th>\n",
       "      <td>18.000000</td>\n",
       "      <td>15.960000</td>\n",
       "      <td>0.000000</td>\n",
       "      <td>1121.873900</td>\n",
       "    </tr>\n",
       "    <tr>\n",
       "      <th>25%</th>\n",
       "      <td>27.000000</td>\n",
       "      <td>26.296250</td>\n",
       "      <td>0.000000</td>\n",
       "      <td>4740.287150</td>\n",
       "    </tr>\n",
       "    <tr>\n",
       "      <th>50%</th>\n",
       "      <td>39.000000</td>\n",
       "      <td>30.400000</td>\n",
       "      <td>1.000000</td>\n",
       "      <td>9382.033000</td>\n",
       "    </tr>\n",
       "    <tr>\n",
       "      <th>75%</th>\n",
       "      <td>51.000000</td>\n",
       "      <td>34.693750</td>\n",
       "      <td>2.000000</td>\n",
       "      <td>16639.912515</td>\n",
       "    </tr>\n",
       "    <tr>\n",
       "      <th>max</th>\n",
       "      <td>64.000000</td>\n",
       "      <td>53.130000</td>\n",
       "      <td>5.000000</td>\n",
       "      <td>63770.428010</td>\n",
       "    </tr>\n",
       "  </tbody>\n",
       "</table>\n",
       "</div>"
      ],
      "text/plain": [
       "               age          bmi     children       charges\n",
       "count  1338.000000  1338.000000  1338.000000   1338.000000\n",
       "mean     39.207025    30.663397     1.094918  13270.422265\n",
       "std      14.049960     6.098187     1.205493  12110.011237\n",
       "min      18.000000    15.960000     0.000000   1121.873900\n",
       "25%      27.000000    26.296250     0.000000   4740.287150\n",
       "50%      39.000000    30.400000     1.000000   9382.033000\n",
       "75%      51.000000    34.693750     2.000000  16639.912515\n",
       "max      64.000000    53.130000     5.000000  63770.428010"
      ]
     },
     "execution_count": 9,
     "metadata": {},
     "output_type": "execute_result"
    }
   ],
   "source": [
    "# Calculating some statistical data\n",
    "df.describe()"
   ]
  },
  {
   "cell_type": "code",
   "execution_count": 11,
   "metadata": {
    "colab": {
     "base_uri": "https://localhost:8080/",
     "height": 34
    },
    "colab_type": "code",
    "executionInfo": {
     "elapsed": 1364,
     "status": "ok",
     "timestamp": 1595740816513,
     "user": {
      "displayName": "Thomas George Thomas",
      "photoUrl": "https://lh3.googleusercontent.com/a-/AOh14GhRjmtno5yCmJOUjYiFNGHi_xP5YZBJ1ZpWGKsZ=s64",
      "userId": "09561174857978505545"
     },
     "user_tz": -330
    },
    "id": "bhIoVr5EjP0b",
    "outputId": "7c0c7789-22ca-4ef6-b10e-713e0e4b5bf0"
   },
   "outputs": [
    {
     "data": {
      "text/plain": [
       "Index(['age', 'bmi', 'children', 'charges'], dtype='object')"
      ]
     },
     "execution_count": 11,
     "metadata": {},
     "output_type": "execute_result"
    }
   ],
   "source": [
    "# Getting the data columns\n",
    "df.describe().columns"
   ]
  },
  {
   "cell_type": "code",
   "execution_count": 13,
   "metadata": {
    "colab": {},
    "colab_type": "code",
    "id": "FcrJjbYejP0n"
   },
   "outputs": [],
   "source": [
    "# Separating numerical and categorical data\n",
    "df_num = df[['age','bmi','children','charges']]\n",
    "df_cat = df[['sex','smoker','region']]"
   ]
  },
  {
   "cell_type": "code",
   "execution_count": 14,
   "metadata": {
    "colab": {
     "base_uri": "https://localhost:8080/",
     "height": 419
    },
    "colab_type": "code",
    "executionInfo": {
     "elapsed": 1326,
     "status": "ok",
     "timestamp": 1595740816515,
     "user": {
      "displayName": "Thomas George Thomas",
      "photoUrl": "https://lh3.googleusercontent.com/a-/AOh14GhRjmtno5yCmJOUjYiFNGHi_xP5YZBJ1ZpWGKsZ=s64",
      "userId": "09561174857978505545"
     },
     "user_tz": -330
    },
    "id": "333-9-ZwjP00",
    "outputId": "ba09a0d7-c429-4f19-d781-b46de7e41b56"
   },
   "outputs": [
    {
     "data": {
      "text/html": [
       "<div>\n",
       "<style scoped>\n",
       "    .dataframe tbody tr th:only-of-type {\n",
       "        vertical-align: middle;\n",
       "    }\n",
       "\n",
       "    .dataframe tbody tr th {\n",
       "        vertical-align: top;\n",
       "    }\n",
       "\n",
       "    .dataframe thead th {\n",
       "        text-align: right;\n",
       "    }\n",
       "</style>\n",
       "<table border=\"1\" class=\"dataframe\">\n",
       "  <thead>\n",
       "    <tr style=\"text-align: right;\">\n",
       "      <th></th>\n",
       "      <th>sex_female</th>\n",
       "      <th>sex_male</th>\n",
       "      <th>smoker_no</th>\n",
       "      <th>smoker_yes</th>\n",
       "      <th>region_northeast</th>\n",
       "      <th>region_northwest</th>\n",
       "      <th>region_southeast</th>\n",
       "      <th>region_southwest</th>\n",
       "    </tr>\n",
       "  </thead>\n",
       "  <tbody>\n",
       "    <tr>\n",
       "      <th>0</th>\n",
       "      <td>True</td>\n",
       "      <td>False</td>\n",
       "      <td>False</td>\n",
       "      <td>True</td>\n",
       "      <td>False</td>\n",
       "      <td>False</td>\n",
       "      <td>False</td>\n",
       "      <td>True</td>\n",
       "    </tr>\n",
       "    <tr>\n",
       "      <th>1</th>\n",
       "      <td>False</td>\n",
       "      <td>True</td>\n",
       "      <td>True</td>\n",
       "      <td>False</td>\n",
       "      <td>False</td>\n",
       "      <td>False</td>\n",
       "      <td>True</td>\n",
       "      <td>False</td>\n",
       "    </tr>\n",
       "    <tr>\n",
       "      <th>2</th>\n",
       "      <td>False</td>\n",
       "      <td>True</td>\n",
       "      <td>True</td>\n",
       "      <td>False</td>\n",
       "      <td>False</td>\n",
       "      <td>False</td>\n",
       "      <td>True</td>\n",
       "      <td>False</td>\n",
       "    </tr>\n",
       "    <tr>\n",
       "      <th>3</th>\n",
       "      <td>False</td>\n",
       "      <td>True</td>\n",
       "      <td>True</td>\n",
       "      <td>False</td>\n",
       "      <td>False</td>\n",
       "      <td>True</td>\n",
       "      <td>False</td>\n",
       "      <td>False</td>\n",
       "    </tr>\n",
       "    <tr>\n",
       "      <th>4</th>\n",
       "      <td>False</td>\n",
       "      <td>True</td>\n",
       "      <td>True</td>\n",
       "      <td>False</td>\n",
       "      <td>False</td>\n",
       "      <td>True</td>\n",
       "      <td>False</td>\n",
       "      <td>False</td>\n",
       "    </tr>\n",
       "    <tr>\n",
       "      <th>...</th>\n",
       "      <td>...</td>\n",
       "      <td>...</td>\n",
       "      <td>...</td>\n",
       "      <td>...</td>\n",
       "      <td>...</td>\n",
       "      <td>...</td>\n",
       "      <td>...</td>\n",
       "      <td>...</td>\n",
       "    </tr>\n",
       "    <tr>\n",
       "      <th>1333</th>\n",
       "      <td>False</td>\n",
       "      <td>True</td>\n",
       "      <td>True</td>\n",
       "      <td>False</td>\n",
       "      <td>False</td>\n",
       "      <td>True</td>\n",
       "      <td>False</td>\n",
       "      <td>False</td>\n",
       "    </tr>\n",
       "    <tr>\n",
       "      <th>1334</th>\n",
       "      <td>True</td>\n",
       "      <td>False</td>\n",
       "      <td>True</td>\n",
       "      <td>False</td>\n",
       "      <td>True</td>\n",
       "      <td>False</td>\n",
       "      <td>False</td>\n",
       "      <td>False</td>\n",
       "    </tr>\n",
       "    <tr>\n",
       "      <th>1335</th>\n",
       "      <td>True</td>\n",
       "      <td>False</td>\n",
       "      <td>True</td>\n",
       "      <td>False</td>\n",
       "      <td>False</td>\n",
       "      <td>False</td>\n",
       "      <td>True</td>\n",
       "      <td>False</td>\n",
       "    </tr>\n",
       "    <tr>\n",
       "      <th>1336</th>\n",
       "      <td>True</td>\n",
       "      <td>False</td>\n",
       "      <td>True</td>\n",
       "      <td>False</td>\n",
       "      <td>False</td>\n",
       "      <td>False</td>\n",
       "      <td>False</td>\n",
       "      <td>True</td>\n",
       "    </tr>\n",
       "    <tr>\n",
       "      <th>1337</th>\n",
       "      <td>True</td>\n",
       "      <td>False</td>\n",
       "      <td>False</td>\n",
       "      <td>True</td>\n",
       "      <td>False</td>\n",
       "      <td>True</td>\n",
       "      <td>False</td>\n",
       "      <td>False</td>\n",
       "    </tr>\n",
       "  </tbody>\n",
       "</table>\n",
       "<p>1338 rows × 8 columns</p>\n",
       "</div>"
      ],
      "text/plain": [
       "      sex_female  sex_male  smoker_no  smoker_yes  region_northeast  \\\n",
       "0           True     False      False        True             False   \n",
       "1          False      True       True       False             False   \n",
       "2          False      True       True       False             False   \n",
       "3          False      True       True       False             False   \n",
       "4          False      True       True       False             False   \n",
       "...          ...       ...        ...         ...               ...   \n",
       "1333       False      True       True       False             False   \n",
       "1334        True     False       True       False              True   \n",
       "1335        True     False       True       False             False   \n",
       "1336        True     False       True       False             False   \n",
       "1337        True     False      False        True             False   \n",
       "\n",
       "      region_northwest  region_southeast  region_southwest  \n",
       "0                False             False              True  \n",
       "1                False              True             False  \n",
       "2                False              True             False  \n",
       "3                 True             False             False  \n",
       "4                 True             False             False  \n",
       "...                ...               ...               ...  \n",
       "1333              True             False             False  \n",
       "1334             False             False             False  \n",
       "1335             False              True             False  \n",
       "1336             False             False              True  \n",
       "1337              True             False             False  \n",
       "\n",
       "[1338 rows x 8 columns]"
      ]
     },
     "execution_count": 14,
     "metadata": {},
     "output_type": "execute_result"
    }
   ],
   "source": [
    "# Use one hot enconding to converting the categorical data into numeric data\n",
    "df1 = pd.get_dummies(df_cat)\n",
    "df1"
   ]
  },
  {
   "cell_type": "code",
   "execution_count": 15,
   "metadata": {
    "colab": {
     "base_uri": "https://localhost:8080/",
     "height": 419
    },
    "colab_type": "code",
    "executionInfo": {
     "elapsed": 1314,
     "status": "ok",
     "timestamp": 1595740816518,
     "user": {
      "displayName": "Thomas George Thomas",
      "photoUrl": "https://lh3.googleusercontent.com/a-/AOh14GhRjmtno5yCmJOUjYiFNGHi_xP5YZBJ1ZpWGKsZ=s64",
      "userId": "09561174857978505545"
     },
     "user_tz": -330
    },
    "id": "qexwGXKxjP08",
    "outputId": "eaa12236-8e83-40cb-8815-6892666af6fa"
   },
   "outputs": [
    {
     "data": {
      "text/html": [
       "<div>\n",
       "<style scoped>\n",
       "    .dataframe tbody tr th:only-of-type {\n",
       "        vertical-align: middle;\n",
       "    }\n",
       "\n",
       "    .dataframe tbody tr th {\n",
       "        vertical-align: top;\n",
       "    }\n",
       "\n",
       "    .dataframe thead th {\n",
       "        text-align: right;\n",
       "    }\n",
       "</style>\n",
       "<table border=\"1\" class=\"dataframe\">\n",
       "  <thead>\n",
       "    <tr style=\"text-align: right;\">\n",
       "      <th></th>\n",
       "      <th>age</th>\n",
       "      <th>bmi</th>\n",
       "      <th>children</th>\n",
       "      <th>charges</th>\n",
       "      <th>sex_female</th>\n",
       "      <th>sex_male</th>\n",
       "      <th>smoker_no</th>\n",
       "      <th>smoker_yes</th>\n",
       "      <th>region_northeast</th>\n",
       "      <th>region_northwest</th>\n",
       "      <th>region_southeast</th>\n",
       "      <th>region_southwest</th>\n",
       "    </tr>\n",
       "  </thead>\n",
       "  <tbody>\n",
       "    <tr>\n",
       "      <th>0</th>\n",
       "      <td>19</td>\n",
       "      <td>27.900</td>\n",
       "      <td>0</td>\n",
       "      <td>16884.92400</td>\n",
       "      <td>True</td>\n",
       "      <td>False</td>\n",
       "      <td>False</td>\n",
       "      <td>True</td>\n",
       "      <td>False</td>\n",
       "      <td>False</td>\n",
       "      <td>False</td>\n",
       "      <td>True</td>\n",
       "    </tr>\n",
       "    <tr>\n",
       "      <th>1</th>\n",
       "      <td>18</td>\n",
       "      <td>33.770</td>\n",
       "      <td>1</td>\n",
       "      <td>1725.55230</td>\n",
       "      <td>False</td>\n",
       "      <td>True</td>\n",
       "      <td>True</td>\n",
       "      <td>False</td>\n",
       "      <td>False</td>\n",
       "      <td>False</td>\n",
       "      <td>True</td>\n",
       "      <td>False</td>\n",
       "    </tr>\n",
       "    <tr>\n",
       "      <th>2</th>\n",
       "      <td>28</td>\n",
       "      <td>33.000</td>\n",
       "      <td>3</td>\n",
       "      <td>4449.46200</td>\n",
       "      <td>False</td>\n",
       "      <td>True</td>\n",
       "      <td>True</td>\n",
       "      <td>False</td>\n",
       "      <td>False</td>\n",
       "      <td>False</td>\n",
       "      <td>True</td>\n",
       "      <td>False</td>\n",
       "    </tr>\n",
       "    <tr>\n",
       "      <th>3</th>\n",
       "      <td>33</td>\n",
       "      <td>22.705</td>\n",
       "      <td>0</td>\n",
       "      <td>21984.47061</td>\n",
       "      <td>False</td>\n",
       "      <td>True</td>\n",
       "      <td>True</td>\n",
       "      <td>False</td>\n",
       "      <td>False</td>\n",
       "      <td>True</td>\n",
       "      <td>False</td>\n",
       "      <td>False</td>\n",
       "    </tr>\n",
       "    <tr>\n",
       "      <th>4</th>\n",
       "      <td>32</td>\n",
       "      <td>28.880</td>\n",
       "      <td>0</td>\n",
       "      <td>3866.85520</td>\n",
       "      <td>False</td>\n",
       "      <td>True</td>\n",
       "      <td>True</td>\n",
       "      <td>False</td>\n",
       "      <td>False</td>\n",
       "      <td>True</td>\n",
       "      <td>False</td>\n",
       "      <td>False</td>\n",
       "    </tr>\n",
       "    <tr>\n",
       "      <th>...</th>\n",
       "      <td>...</td>\n",
       "      <td>...</td>\n",
       "      <td>...</td>\n",
       "      <td>...</td>\n",
       "      <td>...</td>\n",
       "      <td>...</td>\n",
       "      <td>...</td>\n",
       "      <td>...</td>\n",
       "      <td>...</td>\n",
       "      <td>...</td>\n",
       "      <td>...</td>\n",
       "      <td>...</td>\n",
       "    </tr>\n",
       "    <tr>\n",
       "      <th>1333</th>\n",
       "      <td>50</td>\n",
       "      <td>30.970</td>\n",
       "      <td>3</td>\n",
       "      <td>10600.54830</td>\n",
       "      <td>False</td>\n",
       "      <td>True</td>\n",
       "      <td>True</td>\n",
       "      <td>False</td>\n",
       "      <td>False</td>\n",
       "      <td>True</td>\n",
       "      <td>False</td>\n",
       "      <td>False</td>\n",
       "    </tr>\n",
       "    <tr>\n",
       "      <th>1334</th>\n",
       "      <td>18</td>\n",
       "      <td>31.920</td>\n",
       "      <td>0</td>\n",
       "      <td>2205.98080</td>\n",
       "      <td>True</td>\n",
       "      <td>False</td>\n",
       "      <td>True</td>\n",
       "      <td>False</td>\n",
       "      <td>True</td>\n",
       "      <td>False</td>\n",
       "      <td>False</td>\n",
       "      <td>False</td>\n",
       "    </tr>\n",
       "    <tr>\n",
       "      <th>1335</th>\n",
       "      <td>18</td>\n",
       "      <td>36.850</td>\n",
       "      <td>0</td>\n",
       "      <td>1629.83350</td>\n",
       "      <td>True</td>\n",
       "      <td>False</td>\n",
       "      <td>True</td>\n",
       "      <td>False</td>\n",
       "      <td>False</td>\n",
       "      <td>False</td>\n",
       "      <td>True</td>\n",
       "      <td>False</td>\n",
       "    </tr>\n",
       "    <tr>\n",
       "      <th>1336</th>\n",
       "      <td>21</td>\n",
       "      <td>25.800</td>\n",
       "      <td>0</td>\n",
       "      <td>2007.94500</td>\n",
       "      <td>True</td>\n",
       "      <td>False</td>\n",
       "      <td>True</td>\n",
       "      <td>False</td>\n",
       "      <td>False</td>\n",
       "      <td>False</td>\n",
       "      <td>False</td>\n",
       "      <td>True</td>\n",
       "    </tr>\n",
       "    <tr>\n",
       "      <th>1337</th>\n",
       "      <td>61</td>\n",
       "      <td>29.070</td>\n",
       "      <td>0</td>\n",
       "      <td>29141.36030</td>\n",
       "      <td>True</td>\n",
       "      <td>False</td>\n",
       "      <td>False</td>\n",
       "      <td>True</td>\n",
       "      <td>False</td>\n",
       "      <td>True</td>\n",
       "      <td>False</td>\n",
       "      <td>False</td>\n",
       "    </tr>\n",
       "  </tbody>\n",
       "</table>\n",
       "<p>1338 rows × 12 columns</p>\n",
       "</div>"
      ],
      "text/plain": [
       "      age     bmi  children      charges  sex_female  sex_male  smoker_no  \\\n",
       "0      19  27.900         0  16884.92400        True     False      False   \n",
       "1      18  33.770         1   1725.55230       False      True       True   \n",
       "2      28  33.000         3   4449.46200       False      True       True   \n",
       "3      33  22.705         0  21984.47061       False      True       True   \n",
       "4      32  28.880         0   3866.85520       False      True       True   \n",
       "...   ...     ...       ...          ...         ...       ...        ...   \n",
       "1333   50  30.970         3  10600.54830       False      True       True   \n",
       "1334   18  31.920         0   2205.98080        True     False       True   \n",
       "1335   18  36.850         0   1629.83350        True     False       True   \n",
       "1336   21  25.800         0   2007.94500        True     False       True   \n",
       "1337   61  29.070         0  29141.36030        True     False      False   \n",
       "\n",
       "      smoker_yes  region_northeast  region_northwest  region_southeast  \\\n",
       "0           True             False             False             False   \n",
       "1          False             False             False              True   \n",
       "2          False             False             False              True   \n",
       "3          False             False              True             False   \n",
       "4          False             False              True             False   \n",
       "...          ...               ...               ...               ...   \n",
       "1333       False             False              True             False   \n",
       "1334       False              True             False             False   \n",
       "1335       False             False             False              True   \n",
       "1336       False             False             False             False   \n",
       "1337        True             False              True             False   \n",
       "\n",
       "      region_southwest  \n",
       "0                 True  \n",
       "1                False  \n",
       "2                False  \n",
       "3                False  \n",
       "4                False  \n",
       "...                ...  \n",
       "1333             False  \n",
       "1334             False  \n",
       "1335             False  \n",
       "1336              True  \n",
       "1337             False  \n",
       "\n",
       "[1338 rows x 12 columns]"
      ]
     },
     "execution_count": 15,
     "metadata": {},
     "output_type": "execute_result"
    }
   ],
   "source": [
    "# Concatenating the encoded categorical and numerical data to form the dataset.\n",
    "data = pd.concat([df_num,df1], axis=1)\n",
    "data"
   ]
  },
  {
   "cell_type": "markdown",
   "metadata": {
    "colab_type": "text",
    "id": "vdJs64H7jP1E"
   },
   "source": [
    "### 3. Exploratory Data Analysis"
   ]
  },
  {
   "cell_type": "code",
   "execution_count": 16,
   "metadata": {
    "colab": {
     "base_uri": "https://localhost:8080/",
     "height": 441
    },
    "colab_type": "code",
    "executionInfo": {
     "elapsed": 1290,
     "status": "ok",
     "timestamp": 1595740816519,
     "user": {
      "displayName": "Thomas George Thomas",
      "photoUrl": "https://lh3.googleusercontent.com/a-/AOh14GhRjmtno5yCmJOUjYiFNGHi_xP5YZBJ1ZpWGKsZ=s64",
      "userId": "09561174857978505545"
     },
     "user_tz": -330
    },
    "id": "VBjCbXBDjP1F",
    "outputId": "f5bafff7-2d0f-4356-a41b-1e3764291133"
   },
   "outputs": [
    {
     "data": {
      "text/html": [
       "<div>\n",
       "<style scoped>\n",
       "    .dataframe tbody tr th:only-of-type {\n",
       "        vertical-align: middle;\n",
       "    }\n",
       "\n",
       "    .dataframe tbody tr th {\n",
       "        vertical-align: top;\n",
       "    }\n",
       "\n",
       "    .dataframe thead th {\n",
       "        text-align: right;\n",
       "    }\n",
       "</style>\n",
       "<table border=\"1\" class=\"dataframe\">\n",
       "  <thead>\n",
       "    <tr style=\"text-align: right;\">\n",
       "      <th></th>\n",
       "      <th>age</th>\n",
       "      <th>bmi</th>\n",
       "      <th>children</th>\n",
       "      <th>charges</th>\n",
       "      <th>sex_female</th>\n",
       "      <th>sex_male</th>\n",
       "      <th>smoker_no</th>\n",
       "      <th>smoker_yes</th>\n",
       "      <th>region_northeast</th>\n",
       "      <th>region_northwest</th>\n",
       "      <th>region_southeast</th>\n",
       "      <th>region_southwest</th>\n",
       "    </tr>\n",
       "  </thead>\n",
       "  <tbody>\n",
       "    <tr>\n",
       "      <th>age</th>\n",
       "      <td>1.000000</td>\n",
       "      <td>0.109272</td>\n",
       "      <td>0.042469</td>\n",
       "      <td>0.299008</td>\n",
       "      <td>0.020856</td>\n",
       "      <td>-0.020856</td>\n",
       "      <td>0.025019</td>\n",
       "      <td>-0.025019</td>\n",
       "      <td>0.002475</td>\n",
       "      <td>-0.000407</td>\n",
       "      <td>-0.011642</td>\n",
       "      <td>0.010016</td>\n",
       "    </tr>\n",
       "    <tr>\n",
       "      <th>bmi</th>\n",
       "      <td>0.109272</td>\n",
       "      <td>1.000000</td>\n",
       "      <td>0.012759</td>\n",
       "      <td>0.198341</td>\n",
       "      <td>-0.046371</td>\n",
       "      <td>0.046371</td>\n",
       "      <td>-0.003750</td>\n",
       "      <td>0.003750</td>\n",
       "      <td>-0.138156</td>\n",
       "      <td>-0.135996</td>\n",
       "      <td>0.270025</td>\n",
       "      <td>-0.006205</td>\n",
       "    </tr>\n",
       "    <tr>\n",
       "      <th>children</th>\n",
       "      <td>0.042469</td>\n",
       "      <td>0.012759</td>\n",
       "      <td>1.000000</td>\n",
       "      <td>0.067998</td>\n",
       "      <td>-0.017163</td>\n",
       "      <td>0.017163</td>\n",
       "      <td>-0.007673</td>\n",
       "      <td>0.007673</td>\n",
       "      <td>-0.022808</td>\n",
       "      <td>0.024806</td>\n",
       "      <td>-0.023066</td>\n",
       "      <td>0.021914</td>\n",
       "    </tr>\n",
       "    <tr>\n",
       "      <th>charges</th>\n",
       "      <td>0.299008</td>\n",
       "      <td>0.198341</td>\n",
       "      <td>0.067998</td>\n",
       "      <td>1.000000</td>\n",
       "      <td>-0.057292</td>\n",
       "      <td>0.057292</td>\n",
       "      <td>-0.787251</td>\n",
       "      <td>0.787251</td>\n",
       "      <td>0.006349</td>\n",
       "      <td>-0.039905</td>\n",
       "      <td>0.073982</td>\n",
       "      <td>-0.043210</td>\n",
       "    </tr>\n",
       "    <tr>\n",
       "      <th>sex_female</th>\n",
       "      <td>0.020856</td>\n",
       "      <td>-0.046371</td>\n",
       "      <td>-0.017163</td>\n",
       "      <td>-0.057292</td>\n",
       "      <td>1.000000</td>\n",
       "      <td>-1.000000</td>\n",
       "      <td>0.076185</td>\n",
       "      <td>-0.076185</td>\n",
       "      <td>0.002425</td>\n",
       "      <td>0.011156</td>\n",
       "      <td>-0.017117</td>\n",
       "      <td>0.004184</td>\n",
       "    </tr>\n",
       "    <tr>\n",
       "      <th>sex_male</th>\n",
       "      <td>-0.020856</td>\n",
       "      <td>0.046371</td>\n",
       "      <td>0.017163</td>\n",
       "      <td>0.057292</td>\n",
       "      <td>-1.000000</td>\n",
       "      <td>1.000000</td>\n",
       "      <td>-0.076185</td>\n",
       "      <td>0.076185</td>\n",
       "      <td>-0.002425</td>\n",
       "      <td>-0.011156</td>\n",
       "      <td>0.017117</td>\n",
       "      <td>-0.004184</td>\n",
       "    </tr>\n",
       "    <tr>\n",
       "      <th>smoker_no</th>\n",
       "      <td>0.025019</td>\n",
       "      <td>-0.003750</td>\n",
       "      <td>-0.007673</td>\n",
       "      <td>-0.787251</td>\n",
       "      <td>0.076185</td>\n",
       "      <td>-0.076185</td>\n",
       "      <td>1.000000</td>\n",
       "      <td>-1.000000</td>\n",
       "      <td>-0.002811</td>\n",
       "      <td>0.036945</td>\n",
       "      <td>-0.068498</td>\n",
       "      <td>0.036945</td>\n",
       "    </tr>\n",
       "    <tr>\n",
       "      <th>smoker_yes</th>\n",
       "      <td>-0.025019</td>\n",
       "      <td>0.003750</td>\n",
       "      <td>0.007673</td>\n",
       "      <td>0.787251</td>\n",
       "      <td>-0.076185</td>\n",
       "      <td>0.076185</td>\n",
       "      <td>-1.000000</td>\n",
       "      <td>1.000000</td>\n",
       "      <td>0.002811</td>\n",
       "      <td>-0.036945</td>\n",
       "      <td>0.068498</td>\n",
       "      <td>-0.036945</td>\n",
       "    </tr>\n",
       "    <tr>\n",
       "      <th>region_northeast</th>\n",
       "      <td>0.002475</td>\n",
       "      <td>-0.138156</td>\n",
       "      <td>-0.022808</td>\n",
       "      <td>0.006349</td>\n",
       "      <td>0.002425</td>\n",
       "      <td>-0.002425</td>\n",
       "      <td>-0.002811</td>\n",
       "      <td>0.002811</td>\n",
       "      <td>1.000000</td>\n",
       "      <td>-0.320177</td>\n",
       "      <td>-0.345561</td>\n",
       "      <td>-0.320177</td>\n",
       "    </tr>\n",
       "    <tr>\n",
       "      <th>region_northwest</th>\n",
       "      <td>-0.000407</td>\n",
       "      <td>-0.135996</td>\n",
       "      <td>0.024806</td>\n",
       "      <td>-0.039905</td>\n",
       "      <td>0.011156</td>\n",
       "      <td>-0.011156</td>\n",
       "      <td>0.036945</td>\n",
       "      <td>-0.036945</td>\n",
       "      <td>-0.320177</td>\n",
       "      <td>1.000000</td>\n",
       "      <td>-0.346265</td>\n",
       "      <td>-0.320829</td>\n",
       "    </tr>\n",
       "    <tr>\n",
       "      <th>region_southeast</th>\n",
       "      <td>-0.011642</td>\n",
       "      <td>0.270025</td>\n",
       "      <td>-0.023066</td>\n",
       "      <td>0.073982</td>\n",
       "      <td>-0.017117</td>\n",
       "      <td>0.017117</td>\n",
       "      <td>-0.068498</td>\n",
       "      <td>0.068498</td>\n",
       "      <td>-0.345561</td>\n",
       "      <td>-0.346265</td>\n",
       "      <td>1.000000</td>\n",
       "      <td>-0.346265</td>\n",
       "    </tr>\n",
       "    <tr>\n",
       "      <th>region_southwest</th>\n",
       "      <td>0.010016</td>\n",
       "      <td>-0.006205</td>\n",
       "      <td>0.021914</td>\n",
       "      <td>-0.043210</td>\n",
       "      <td>0.004184</td>\n",
       "      <td>-0.004184</td>\n",
       "      <td>0.036945</td>\n",
       "      <td>-0.036945</td>\n",
       "      <td>-0.320177</td>\n",
       "      <td>-0.320829</td>\n",
       "      <td>-0.346265</td>\n",
       "      <td>1.000000</td>\n",
       "    </tr>\n",
       "  </tbody>\n",
       "</table>\n",
       "</div>"
      ],
      "text/plain": [
       "                       age       bmi  children   charges  sex_female  \\\n",
       "age               1.000000  0.109272  0.042469  0.299008    0.020856   \n",
       "bmi               0.109272  1.000000  0.012759  0.198341   -0.046371   \n",
       "children          0.042469  0.012759  1.000000  0.067998   -0.017163   \n",
       "charges           0.299008  0.198341  0.067998  1.000000   -0.057292   \n",
       "sex_female        0.020856 -0.046371 -0.017163 -0.057292    1.000000   \n",
       "sex_male         -0.020856  0.046371  0.017163  0.057292   -1.000000   \n",
       "smoker_no         0.025019 -0.003750 -0.007673 -0.787251    0.076185   \n",
       "smoker_yes       -0.025019  0.003750  0.007673  0.787251   -0.076185   \n",
       "region_northeast  0.002475 -0.138156 -0.022808  0.006349    0.002425   \n",
       "region_northwest -0.000407 -0.135996  0.024806 -0.039905    0.011156   \n",
       "region_southeast -0.011642  0.270025 -0.023066  0.073982   -0.017117   \n",
       "region_southwest  0.010016 -0.006205  0.021914 -0.043210    0.004184   \n",
       "\n",
       "                  sex_male  smoker_no  smoker_yes  region_northeast  \\\n",
       "age              -0.020856   0.025019   -0.025019          0.002475   \n",
       "bmi               0.046371  -0.003750    0.003750         -0.138156   \n",
       "children          0.017163  -0.007673    0.007673         -0.022808   \n",
       "charges           0.057292  -0.787251    0.787251          0.006349   \n",
       "sex_female       -1.000000   0.076185   -0.076185          0.002425   \n",
       "sex_male          1.000000  -0.076185    0.076185         -0.002425   \n",
       "smoker_no        -0.076185   1.000000   -1.000000         -0.002811   \n",
       "smoker_yes        0.076185  -1.000000    1.000000          0.002811   \n",
       "region_northeast -0.002425  -0.002811    0.002811          1.000000   \n",
       "region_northwest -0.011156   0.036945   -0.036945         -0.320177   \n",
       "region_southeast  0.017117  -0.068498    0.068498         -0.345561   \n",
       "region_southwest -0.004184   0.036945   -0.036945         -0.320177   \n",
       "\n",
       "                  region_northwest  region_southeast  region_southwest  \n",
       "age                      -0.000407         -0.011642          0.010016  \n",
       "bmi                      -0.135996          0.270025         -0.006205  \n",
       "children                  0.024806         -0.023066          0.021914  \n",
       "charges                  -0.039905          0.073982         -0.043210  \n",
       "sex_female                0.011156         -0.017117          0.004184  \n",
       "sex_male                 -0.011156          0.017117         -0.004184  \n",
       "smoker_no                 0.036945         -0.068498          0.036945  \n",
       "smoker_yes               -0.036945          0.068498         -0.036945  \n",
       "region_northeast         -0.320177         -0.345561         -0.320177  \n",
       "region_northwest          1.000000         -0.346265         -0.320829  \n",
       "region_southeast         -0.346265          1.000000         -0.346265  \n",
       "region_southwest         -0.320829         -0.346265          1.000000  "
      ]
     },
     "execution_count": 16,
     "metadata": {},
     "output_type": "execute_result"
    }
   ],
   "source": [
    "# The correlation between the features\n",
    "data.corr()"
   ]
  },
  {
   "cell_type": "code",
   "execution_count": 18,
   "metadata": {
    "colab": {
     "base_uri": "https://localhost:8080/",
     "height": 364
    },
    "colab_type": "code",
    "executionInfo": {
     "elapsed": 1894,
     "status": "ok",
     "timestamp": 1595740817151,
     "user": {
      "displayName": "Thomas George Thomas",
      "photoUrl": "https://lh3.googleusercontent.com/a-/AOh14GhRjmtno5yCmJOUjYiFNGHi_xP5YZBJ1ZpWGKsZ=s64",
      "userId": "09561174857978505545"
     },
     "user_tz": -330
    },
    "id": "LeiJzU9FjP1O",
    "outputId": "3febbf4a-012a-46db-9b30-26b573986c62"
   },
   "outputs": [
    {
     "data": {
      "text/plain": [
       "<Axes: >"
      ]
     },
     "execution_count": 18,
     "metadata": {},
     "output_type": "execute_result"
    },
    {
     "data": {
      "image/png": "[encoded data removed]",
      "text/plain": [
       "<Figure size 640x480 with 2 Axes>"
      ]
     },
     "metadata": {},
     "output_type": "display_data"
    }
   ],
   "source": [
    "# Heatmap to visualize the correlation\n",
    "sns.heatmap(data.corr(), cmap='PiYG')"
   ]
  },
  {
   "cell_type": "markdown",
   "metadata": {
    "colab_type": "text",
    "id": "J57ZG3PGjP1V"
   },
   "source": [
    "From this heatmap we find the following observations:\n",
    "\n",
    "1. Strong correlation between charges and smoker_yes.\n",
    "2. Weak correlation between charges and age.\n",
    "2. Weak correlation between charges and bmi. \n",
    "3. Weak correlation between bmi and region_southeast.\n",
    "\n",
    "Since the values for the weak correlations are less than 0.5 so we term them as insignificant and drop them"
   ]
  },
  {
   "cell_type": "code",
   "execution_count": 19,
   "metadata": {
    "colab": {
     "base_uri": "https://localhost:8080/",
     "height": 238
    },
    "colab_type": "code",
    "executionInfo": {
     "elapsed": 1866,
     "status": "ok",
     "timestamp": 1595740817154,
     "user": {
      "displayName": "Thomas George Thomas",
      "photoUrl": "https://lh3.googleusercontent.com/a-/AOh14GhRjmtno5yCmJOUjYiFNGHi_xP5YZBJ1ZpWGKsZ=s64",
      "userId": "09561174857978505545"
     },
     "user_tz": -330
    },
    "id": "tfxwpQ_mjP1W",
    "outputId": "df681d34-00f6-4805-de21-13dc25553094"
   },
   "outputs": [
    {
     "data": {
      "text/plain": [
       "smoker_no          -0.787251\n",
       "sex_female         -0.057292\n",
       "region_southwest   -0.043210\n",
       "region_northwest   -0.039905\n",
       "region_northeast    0.006349\n",
       "sex_male            0.057292\n",
       "children            0.067998\n",
       "region_southeast    0.073982\n",
       "bmi                 0.198341\n",
       "age                 0.299008\n",
       "smoker_yes          0.787251\n",
       "charges             1.000000\n",
       "Name: charges, dtype: float64"
      ]
     },
     "execution_count": 19,
     "metadata": {},
     "output_type": "execute_result"
    }
   ],
   "source": [
    "# Correlation between charges and the other features.\n",
    "data.corr()['charges'].sort_values()"
   ]
  },
  {
   "cell_type": "code",
   "execution_count": 24,
   "metadata": {
    "colab": {
     "base_uri": "https://localhost:8080/",
     "height": 716
    },
    "colab_type": "code",
    "executionInfo": {
     "elapsed": 2502,
     "status": "ok",
     "timestamp": 1595740817808,
     "user": {
      "displayName": "Thomas George Thomas",
      "photoUrl": "https://lh3.googleusercontent.com/a-/AOh14GhRjmtno5yCmJOUjYiFNGHi_xP5YZBJ1ZpWGKsZ=s64",
      "userId": "09561174857978505545"
     },
     "user_tz": -330
    },
    "id": "95CccfewjP1b",
    "outputId": "f5705430-f0ea-45b5-fca6-78edbe734d05"
   },
   "outputs": [
    {
     "data": {
      "image/png": "[encoded data removed]",
      "text/plain": [
       "<Figure size 2000x1000 with 1 Axes>"
      ]
     },
     "metadata": {},
     "output_type": "display_data"
    }
   ],
   "source": [
    "# Graph showing the min and maximum charges\n",
    "count, bin_edges = np.histogram(data['charges'])\n",
    "data['charges'].plot(kind='hist', xticks=bin_edges, figsize=(20,10))\n",
    "plt.title(\"Patient Charges\")\n",
    "plt.show()"
   ]
  },
  {
   "cell_type": "markdown",
   "metadata": {
    "colab_type": "text",
    "id": "TUGKk0XyjP1i"
   },
   "source": [
    "### 4. Model Building"
   ]
  },
  {
   "cell_type": "markdown",
   "metadata": {
    "colab_type": "text",
    "id": "csr2cJIkjP1j"
   },
   "source": [
    "Use sklearn package to predict the charges with the help of the other features."
   ]
  },
  {
   "cell_type": "code",
   "execution_count": 25,
   "metadata": {
    "colab": {},
    "colab_type": "code",
    "id": "vtcr-RjSjP1j"
   },
   "outputs": [],
   "source": [
    "from sklearn.linear_model import LinearRegression\n",
    "from sklearn.model_selection import train_test_split"
   ]
  },
  {
   "cell_type": "markdown",
   "metadata": {
    "colab_type": "text",
    "id": "efqEyop8jP1m"
   },
   "source": [
    "### 5. Model fitting\n",
    "For this model, we split the dataset into training and test set. We use 30% of the dataset for testing (test_size=0.3) and then take the dataset without the charges column as the predictor variables and the charges as response/target variable."
   ]
  },
  {
   "cell_type": "code",
   "execution_count": 32,
   "metadata": {
    "colab": {},
    "colab_type": "code",
    "id": "D9l3eAo7jP1m"
   },
   "outputs": [],
   "source": [
    "x = data.drop(['charges'], axis = 1)\n",
    "y = data['charges']\n",
    "\n",
    "x_train,x_test,y_train,y_test = train_test_split(x,y, test_size=0.3, random_state = 0)\n",
    "lr = LinearRegression().fit(x_train,y_train)"
   ]
  },
  {
   "cell_type": "markdown",
   "metadata": {
    "colab_type": "text",
    "id": "zL0mSReyjP1p"
   },
   "source": [
    "### 6. Model prediction"
   ]
  },
  {
   "cell_type": "code",
   "execution_count": 28,
   "metadata": {
    "colab": {
     "base_uri": "https://localhost:8080/",
     "height": 34
    },
    "colab_type": "code",
    "executionInfo": {
     "elapsed": 2455,
     "status": "ok",
     "timestamp": 1595740817812,
     "user": {
      "displayName": "Thomas George Thomas",
      "photoUrl": "https://lh3.googleusercontent.com/a-/AOh14GhRjmtno5yCmJOUjYiFNGHi_xP5YZBJ1ZpWGKsZ=s64",
      "userId": "09561174857978505545"
     },
     "user_tz": -330
    },
    "id": "rQzsIwgzjP1q",
    "outputId": "89ab538d-9a37-43c7-d58f-4701a30cac52"
   },
   "outputs": [
    {
     "name": "stdout",
     "output_type": "stream",
     "text": [
      "0.7909160991789905\n"
     ]
    }
   ],
   "source": [
    "y_train_pred = lr.predict(x_train)\n",
    "y_test_pred = lr.predict(x_test)\n",
    "\n",
    "print(lr.score(x_test,y_test))"
   ]
  },
  {
   "cell_type": "markdown",
   "metadata": {
    "colab_type": "text",
    "id": "OdazYO_vjP1u"
   },
   "source": [
    "Looks like the basic linear regression model predicting the cost of treatment look good and the score value is 0.79."
   ]
  },
  {
   "cell_type": "markdown",
   "metadata": {
    "colab_type": "text",
    "id": "ialjGVivjP1v"
   },
   "source": [
    "## Model Evaluation"
   ]
  },
  {
   "cell_type": "code",
   "execution_count": 29,
   "metadata": {
    "colab": {},
    "colab_type": "code",
    "id": "0zcYs7FsjP1w"
   },
   "outputs": [],
   "source": [
    "from sklearn.metrics import r2_score,mean_squared_error"
   ]
  },
  {
   "cell_type": "code",
   "execution_count": 31,
   "metadata": {
    "colab": {
     "base_uri": "https://localhost:8080/",
     "height": 85
    },
    "colab_type": "code",
    "executionInfo": {
     "elapsed": 2431,
     "status": "ok",
     "timestamp": 1595740817814,
     "user": {
      "displayName": "Thomas George Thomas",
      "photoUrl": "https://lh3.googleusercontent.com/a-/AOh14GhRjmtno5yCmJOUjYiFNGHi_xP5YZBJ1ZpWGKsZ=s64",
      "userId": "09561174857978505545"
     },
     "user_tz": -330
    },
    "id": "taGXxMgmjP1z",
    "outputId": "7fad1f5e-28af-4723-91ca-8c0961277b7c"
   },
   "outputs": [
    {
     "name": "stdout",
     "output_type": "stream",
     "text": [
      "MSE for train data is: 37931360.958770044\n",
      "MSE for test data is: 33342497.826954577\n",
      "R2 for train data: 0.7309569871174701\n",
      "R2 for test data: 0.7909160991789905\n"
     ]
    }
   ],
   "source": [
    "print('MSE for train data is:' , mean_squared_error(y_train,y_train_pred))\n",
    "print('MSE for test data is:' , mean_squared_error(y_test,y_test_pred))\n",
    "\n",
    "print('R2 for train data:', r2_score(y_train,y_train_pred))\n",
    "print('R2 for test data:' , r2_score(y_test,y_test_pred))"
   ]
  },
  {
   "cell_type": "markdown",
   "metadata": {
    "colab_type": "text",
    "id": "ThrEtOovjP15"
   },
   "source": [
    "We can see that the closely matching results between training and test data and the R-squared for test data means that the accuracy of our model is around 80% on the test data.This is enough to conclude our model is appropriate to predict patient charges based on their personal health data."
   ]
  },
  {
   "cell_type": "markdown",
   "metadata": {},
   "source": [
    "## References\n",
    "1. Miri Choi, Medical Cost Personal Datasets (2013), Kaggle\n"
   ]
  }
 ],
 "metadata": {
  "colab": {
   "collapsed_sections": [],
   "name": "Personal-Health-Data.ipynb",
   "provenance": []
  },
  "kernelspec": {
   "display_name": "Python 3 (ipykernel)",
   "language": "python",
   "name": "python3"
  },
  "language_info": {
   "codemirror_mode": {
    "name": "ipython",
    "version": 3
   },
   "file_extension": ".py",
   "mimetype": "text/x-python",
   "name": "python",
   "nbconvert_exporter": "python",
   "pygments_lexer": "ipython3",
   "version": "3.11.5"
  }
 },
 "nbformat": 4,
 "nbformat_minor": 1
}
